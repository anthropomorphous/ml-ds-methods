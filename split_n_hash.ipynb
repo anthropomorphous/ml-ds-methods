{
 "cells": [
  {
   "cell_type": "code",
   "execution_count": 1,
   "metadata": {},
   "outputs": [],
   "source": [
    "from google.cloud import bigquery\n",
    "\n",
    "import pandas as pd\n",
    "import numpy as np\n",
    "import matplotlib.pyplot as plt\n",
    "%matplotlib inline"
   ]
  },
  {
   "cell_type": "code",
   "execution_count": 4,
   "metadata": {},
   "outputs": [],
   "source": [
    "client = bigquery.Client.from_service_account_json(r\"/Users/mi/Downloads/proprietary-start-1c533200ea95.json\")"
   ]
  },
  {
   "cell_type": "code",
   "execution_count": 9,
   "metadata": {},
   "outputs": [],
   "source": [
    "# with FARM_FINGERPRINT - hash function, returns exact same value each time on the same date\n",
    "# to get 10% of the data use \" = 8\", or \" = 9\" instead of \" > 8\"\n",
    "# but we cannot longer make date-specific predictions (e.g. for Christmas), as our dates are hashed now\n",
    "\n",
    "splitting_query = \"\"\"\n",
    "SELECT \n",
    "    date,\n",
    "    airline,\n",
    "    departure_airport,\n",
    "    departure_schedule,\n",
    "    arrival_airport,\n",
    "    arrival_delay\n",
    "FROM `bigquery-samples.airline_ontime_data.flights`\n",
    "WHERE MOD(ABS(FARM_FINGERPRINT(date)), 10) < 8\n",
    "\"\"\""
   ]
  },
  {
   "cell_type": "code",
   "execution_count": 16,
   "metadata": {},
   "outputs": [],
   "source": [
    "def run_query(que):\n",
    "    table = client.query(que).to_dataframe()\n",
    "    return table"
   ]
  },
  {
   "cell_type": "code",
   "execution_count": null,
   "metadata": {},
   "outputs": [],
   "source": [
    "df = run_query(splitting_query, client)\n",
    "df.head()\n",
    "\n",
    "# runs too long"
   ]
  },
  {
   "cell_type": "markdown",
   "metadata": {},
   "source": [
    "<h1> Repeatable splitting </h1>\n",
    "\n",
    "In this notebook explored the impact of different ways of creating machine learning datasets.\n",
    "\n",
    "<p>\n",
    "\n",
    "Repeatability is important in machine learning. If you do the same thing now and 5 minutes from now and get different answers, then it makes experimentation difficult. In other words, you will find it difficult to gauge whether a change you made has resulted in an improvement or not."
   ]
  },
  {
   "cell_type": "markdown",
   "metadata": {},
   "source": [
    "<h3> Create a simple machine learning model </h3>\n",
    "\n",
    "The dataset's number of records is 70 million.\n",
    "<p>\n",
    "We want to predict the arrival delay of an airline based on the departure delay. The model that we will use is a zero-bias linear model:\n",
    "$$ delay_{arrival} = \\alpha * delay_{departure} $$\n",
    "<p>\n",
    "To train the model is to estimate a good value for $\\alpha$. \n",
    "<p>\n",
    "One approach to estimate alpha is to use this formula:\n",
    "$$ \\alpha = \\frac{\\sum delay_{departure} delay_{arrival} }{  \\sum delay_{departure}^2 } $$\n",
    "Because we'd like to capture the idea that this relationship is different for flights from New York to Los Angeles vs. flights from Austin to Indianapolis (shorter flight, less busy airports), we'd compute a different $alpha$ for each airport-pair.  For simplicity, model made only for flights between Denver and Los Angeles."
   ]
  },
  {
   "cell_type": "markdown",
   "metadata": {},
   "source": [
    "<h3> Naive Random Split </h3> (Not Repeatable)"
   ]
  },
  {
   "cell_type": "code",
   "execution_count": 11,
   "metadata": {},
   "outputs": [],
   "source": [
    "compute_alpha = \"\"\"\n",
    "#standardSQL\n",
    "SELECT \n",
    "    SAFE_DIVIDE(\n",
    "    SUM(arrival_delay * departure_delay),\n",
    "    SUM(departure_delay * departure_delay)) AS alpha\n",
    "FROM\n",
    "(\n",
    "    SELECT\n",
    "        RAND() AS splitfield,\n",
    "        arrival_delay,\n",
    "        departure_delay\n",
    "    FROM\n",
    "        `bigquery-samples.airline_ontime_data.flights`\n",
    "    WHERE\n",
    "        departure_airport = 'DEN'\n",
    "        AND arrival_airport = 'LAX'\n",
    ")\n",
    "WHERE\n",
    "    splitfield < 0.8\n",
    "\"\"\""
   ]
  },
  {
   "cell_type": "code",
   "execution_count": null,
   "metadata": {},
   "outputs": [],
   "source": [
    "results = bigquery.Client().query(compute_alpha).to_dataframe()\n",
    "alpha = results['alpha'][0]\n",
    "print(alpha)"
   ]
  },
  {
   "cell_type": "markdown",
   "metadata": {},
   "source": [
    "<h3> How do we correctly train and evaluate? </h3>\n",
    "<br/>\n",
    "Here's the right way to compute the RMSE using the actual training and held-out (evaluation) data. Note how much harder this feels.\n",
    "\n",
    "Although the calculations are correct, the experiment is still not repeatable."
   ]
  },
  {
   "cell_type": "code",
   "execution_count": 12,
   "metadata": {},
   "outputs": [],
   "source": [
    "train_and_eval_rand = \"\"\"\n",
    "#standardSQL\n",
    "WITH\n",
    "    alldata AS (\n",
    "        SELECT\n",
    "            IF (RAND() < 0.8, 'train', 'eval') AS dataset,\n",
    "            arrival_delay,\n",
    "            departure_delay\n",
    "        FROM\n",
    "            `bigquery-samples.airline_ontime_data.flights`\n",
    "        WHERE\n",
    "        departure_airport = 'DEN'\n",
    "        AND arrival_airport = 'LAX' ),\n",
    "    training AS (\n",
    "        SELECT\n",
    "            SAFE_DIVIDE(\n",
    "                SUM(arrival_delay * departure_delay),\n",
    "                SUM(departure_delay * departure_delay)) AS alpha\n",
    "        FROM\n",
    "            alldata\n",
    "        WHERE\n",
    "            dataset = 'train' )\n",
    "\n",
    "SELECT\n",
    "    MAX(alpha) AS alpha,\n",
    "    dataset,\n",
    "    SQRT(\n",
    "        AVG(\n",
    "            (arrival_delay - alpha * departure_delay) *\n",
    "            (arrival_delay - alpha * departure_delay)\n",
    "        )\n",
    "    ) AS rmse,\n",
    "    COUNT(arrival_delay) AS num_flights\n",
    "FROM\n",
    "    alldata,\n",
    "    training\n",
    "GROUP BY\n",
    "    dataset\n",
    "\"\"\""
   ]
  },
  {
   "cell_type": "code",
   "execution_count": 17,
   "metadata": {},
   "outputs": [],
   "source": [
    "df = run_query(train_and_eval_rand)"
   ]
  },
  {
   "cell_type": "code",
   "execution_count": 18,
   "metadata": {},
   "outputs": [
    {
     "data": {
      "text/html": [
       "<div>\n",
       "<style scoped>\n",
       "    .dataframe tbody tr th:only-of-type {\n",
       "        vertical-align: middle;\n",
       "    }\n",
       "\n",
       "    .dataframe tbody tr th {\n",
       "        vertical-align: top;\n",
       "    }\n",
       "\n",
       "    .dataframe thead th {\n",
       "        text-align: right;\n",
       "    }\n",
       "</style>\n",
       "<table border=\"1\" class=\"dataframe\">\n",
       "  <thead>\n",
       "    <tr style=\"text-align: right;\">\n",
       "      <th></th>\n",
       "      <th>alpha</th>\n",
       "      <th>dataset</th>\n",
       "      <th>rmse</th>\n",
       "      <th>num_flights</th>\n",
       "    </tr>\n",
       "  </thead>\n",
       "  <tbody>\n",
       "    <tr>\n",
       "      <th>0</th>\n",
       "      <td>0.975158</td>\n",
       "      <td>train</td>\n",
       "      <td>13.002381</td>\n",
       "      <td>63831</td>\n",
       "    </tr>\n",
       "    <tr>\n",
       "      <th>1</th>\n",
       "      <td>0.975158</td>\n",
       "      <td>eval</td>\n",
       "      <td>13.406476</td>\n",
       "      <td>15858</td>\n",
       "    </tr>\n",
       "  </tbody>\n",
       "</table>\n",
       "</div>"
      ],
      "text/plain": [
       "      alpha dataset       rmse  num_flights\n",
       "0  0.975158   train  13.002381        63831\n",
       "1  0.975158    eval  13.406476        15858"
      ]
     },
     "execution_count": 18,
     "metadata": {},
     "output_type": "execute_result"
    }
   ],
   "source": [
    "df.head()"
   ]
  },
  {
   "cell_type": "markdown",
   "metadata": {},
   "source": [
    "<h3> Data split using HASH </h3>"
   ]
  },
  {
   "cell_type": "code",
   "execution_count": 21,
   "metadata": {},
   "outputs": [],
   "source": [
    "compute_alpha2 = \"\"\"\n",
    "#standardSQL\n",
    "SELECT \n",
    "    SAFE_DIVIDE(\n",
    "        SUM(arrival_delay * departure_delay),\n",
    "        SUM(departure_delay * departure_delay)) AS alpha\n",
    "FROM\n",
    "    `bigquery-samples.airline_ontime_data.flights`\n",
    "WHERE\n",
    "    departure_airport = 'DEN'\n",
    "    AND arrival_airport = 'LAX'\n",
    "    AND ABS(MOD(FARM_FINGERPRINT(date), 10)) < 8\n",
    "\"\"\""
   ]
  },
  {
   "cell_type": "code",
   "execution_count": 22,
   "metadata": {},
   "outputs": [
    {
     "name": "stdout",
     "output_type": "stream",
     "text": [
      "0.9758039143620403\n"
     ]
    }
   ],
   "source": [
    "df = run_query(compute_alpha2)\n",
    "alpha = df['alpha'][0]\n",
    "print(alpha)"
   ]
  },
  {
   "cell_type": "code",
   "execution_count": 23,
   "metadata": {},
   "outputs": [],
   "source": [
    "# We can now use the alpha to compute RMSE. Because the alpha value is repeatable, we don't need to worry \n",
    "# that the alpha in the compute_rmse will be different from the alpha computed in the compute_alpha.\n",
    "\n",
    "compute_rmse = \"\"\"\n",
    "#standardSQL\n",
    "SELECT\n",
    "    IF(ABS(MOD(FARM_FINGERPRINT(date), 10)) < 8, 'train', 'eval') AS dataset,\n",
    "    SQRT(\n",
    "        AVG(\n",
    "            (arrival_delay - ALPHA * departure_delay) *\n",
    "            (arrival_delay - ALPHA * departure_delay)\n",
    "        )\n",
    "    ) AS rmse,\n",
    "    COUNT(arrival_delay) AS num_flights\n",
    "FROM\n",
    "    `bigquery-samples.airline_ontime_data.flights`\n",
    "WHERE\n",
    "    departure_airport = 'DEN'\n",
    "    AND arrival_airport = 'LAX'\n",
    "GROUP BY\n",
    "    dataset\n",
    "\"\"\""
   ]
  },
  {
   "cell_type": "code",
   "execution_count": 24,
   "metadata": {},
   "outputs": [
    {
     "name": "stdout",
     "output_type": "stream",
     "text": [
      "  dataset       rmse  num_flights\n",
      "0    eval  12.764685        15671\n",
      "1   train  13.160712        64018\n"
     ]
    }
   ],
   "source": [
    "print(client.query(compute_rmse.replace('ALPHA', str(alpha))).to_dataframe().head())"
   ]
  },
  {
   "cell_type": "code",
   "execution_count": null,
   "metadata": {},
   "outputs": [],
   "source": []
  }
 ],
 "metadata": {
  "kernelspec": {
   "display_name": "Python 3",
   "language": "python",
   "name": "python3"
  },
  "language_info": {
   "codemirror_mode": {
    "name": "ipython",
    "version": 3
   },
   "file_extension": ".py",
   "mimetype": "text/x-python",
   "name": "python",
   "nbconvert_exporter": "python",
   "pygments_lexer": "ipython3",
   "version": "3.8.3"
  }
 },
 "nbformat": 4,
 "nbformat_minor": 4
}
