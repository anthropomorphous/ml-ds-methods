{
 "cells": [
  {
   "cell_type": "code",
   "execution_count": 16,
   "metadata": {},
   "outputs": [],
   "source": [
    "file_obj = open('sentences.txt', 'r')\n",
    "data_list = list(file_obj)\n",
    "low_data_list = list()\n",
    "\n",
    "for line in data_list:\n",
    "    low_data_list.append(line.strip().lower())"
   ]
  },
  {
   "cell_type": "code",
   "execution_count": 17,
   "metadata": {},
   "outputs": [
    {
     "name": "stdout",
     "output_type": "stream",
     "text": [
      "{0: 'displays', 1: 'osx', 2: 'selection', 3: 'safari', 4: 'just', 5: 'developed', 6: 'over', 7: 'vermin', 8: 'domestic', 9: 'named', 10: 'installed', 11: 'symbols', 12: 'through', 13: 'human', 14: 'world', 15: 'disk', 16: 'its', 17: 'fifth', 18: 'features', 19: 'tamed', 20: 'upgrade', 21: 'lb', 22: 'drive', 23: 'to', 24: 'won', 25: 'deliberately', 26: 'marks', 27: 'has', 28: 'predecessor', 29: 'non', 30: 'which', 31: 'read', 32: 'october', 33: 'every', 34: 'os', 35: 'they', 36: 'not', 37: 'during', 38: 'now', 39: 'possess', 40: 'intel', 41: 'keyboards', 42: 'bytes', 43: 'unnecessary', 44: 'patch', 45: 'predators', 46: 'small', 47: 'output', 48: 'entirely', 49: 'where', 50: 'ears', 51: 'available', 52: 'on', 53: 'often', 54: 'sequence', 55: 'some', 56: 'lion', 57: 'frequency', 58: 'are', 59: 'year', 60: 'download', 61: 'terms', 62: 'concern', 63: 'error', 64: 'for', 65: 'pipes', 66: 'since', 67: 'factory', 68: 'artificial', 69: 'content', 70: 'version', 71: 'run', 72: 'between', 73: 'new', 74: 'learned', 75: 'three', 76: 'piped', 77: 'common', 78: 'concatenate', 79: 'be', 80: 'weighing', 81: 'genes', 82: 'use', 83: 'standard', 84: 'release', 85: 'diploid', 86: 'members', 87: 'x', 88: 'based', 89: 'safer', 90: 'by', 91: 'both', 92: 'commands', 93: 'installation', 94: 'installs', 95: 'of', 96: 'needing', 97: 'allows', 98: 'according', 99: 'july', 100: 'later', 101: 'mac', 102: 's', 103: 'streams', 104: 'receives', 105: 'successor', 106: 'catenates', 107: 'changes', 108: 'or', 109: 'felis', 110: 'major', 111: 'faint', 112: 'useful', 113: 'apple', 114: 'app', 115: 'community', 116: 'one', 117: 'running', 118: 'unix', 119: 'right', 120: 'simply', 121: 'linux', 122: 'sounds', 123: 'size', 124: 'undergone', 125: 'delete', 126: 'from', 127: 'enhancements', 128: 'second', 129: 'their', 130: 'create', 131: 'people', 132: 'two', 133: 't', 134: 'redirection', 135: 'however', 136: 'cats', 137: 'too', 138: 'basic', 139: 'permanently', 140: 'type', 141: 'dogs', 142: 'store', 143: 'more', 144: 'files', 145: 'releases', 146: 'that', 147: 'started', 148: 'contains', 149: 'releasing', 150: 'tiger', 151: 'released', 152: 'part', 153: 'hear', 154: 'external', 155: 'editions', 156: 'off', 157: 'mice', 158: 'with', 159: 'than', 160: 'those', 161: 'longer', 162: 'count', 163: 'made', 164: 'animals', 165: 'mavericks', 166: 'versions', 167: 'default', 168: 'was', 169: 'single', 170: 'cat', 171: 'will', 172: 'can', 173: 'were', 174: 'wild', 175: 'similar', 176: 'interactive', 177: 'and', 178: 'mountain', 179: 'computers', 180: 'have', 181: 'stdout', 182: 'process', 183: 'lines', 184: 'is', 185: 'received', 186: 'moved', 187: 'it', 188: 'an', 189: 'high', 190: 'as', 191: 'incremental', 192: 'file', 193: 'in', 194: 'need', 195: 'domesticated', 196: 'any', 197: 'domestication', 198: 'if', 199: 'binary', 200: 'processors', 201: 'no', 202: 'rather', 203: 'legibility', 204: 'separate', 205: 'firmware', 206: 'when', 207: 'mid', 208: 'also', 209: 'other', 210: 'arguments', 211: 'adjacent', 212: 'online', 213: 'instead', 214: 'you', 215: 'ancestor', 216: 'offered', 217: 'used', 218: 'chromosomes', 219: 'closest', 220: 'information', 221: 'may', 222: 'symbol', 223: 'leopard', 224: 'update', 225: 'most', 226: 'wrong', 227: 'connected', 228: 'yosemite', 229: 'such', 230: 'comparison', 231: 'recent', 232: 'a', 233: 'purchase', 234: 'genus', 235: 'kg', 236: 'organisms', 237: 'using', 238: 'starting', 239: 'clear', 240: 'stdin', 241: 'flow', 242: 'roughly', 243: 'so', 244: 'switch', 245: 'without', 246: 'command', 247: 'place', 248: 'allow', 249: 'time', 250: 'redirected', 251: 'the', 252: 'typically', 253: 'left'}\n"
     ]
    }
   ],
   "source": [
    "import re\n",
    "word_set = set()\n",
    "\n",
    "for line in low_data_list: \n",
    "    arr = re.split('[^a-z]', line)\n",
    "    for word in arr:\n",
    "        if word != '':\n",
    "            word_set.add(word)\n",
    "            \n",
    "word_dict = dict(zip([x for x in range(len(word_set))], word_set))\n",
    "print word_dict"
   ]
  },
  {
   "cell_type": "code",
   "execution_count": 18,
   "metadata": {},
   "outputs": [
    {
     "name": "stdout",
     "output_type": "stream",
     "text": [
      "(22L, 254L)\n"
     ]
    }
   ],
   "source": [
    "import numpy as np\n",
    "m = np.zeros((len(low_data_list), len(word_set)))\n",
    "\n",
    "i = 0\n",
    "j = 0\n",
    "\n",
    "for line in low_data_list:\n",
    "    arr = re.split('[^a-z]', line)\n",
    "    for key, value in word_dict.items():\n",
    "        temp = 0\n",
    "        for word in arr:\n",
    "            if word == value:\n",
    "                temp = temp + 1\n",
    "        m.itemset((i,key), temp)\n",
    "    i = i + 1\n",
    "    \n",
    "print m.shape"
   ]
  },
  {
   "cell_type": "code",
   "execution_count": 19,
   "metadata": {},
   "outputs": [
    {
     "name": "stdout",
     "output_type": "stream",
     "text": [
      "0 0.0\n",
      "1 0.9527544408738466\n",
      "2 0.8644738145642124\n",
      "3 0.8951715163278082\n",
      "4 0.7770887149698589\n",
      "5 0.9402385695332803\n",
      "6 0.7327387580875756\n",
      "7 0.9258750683338899\n",
      "8 0.8842724875284311\n",
      "9 0.9055088817476932\n",
      "10 0.8328165362273942\n",
      "11 0.8804771390665607\n",
      "12 0.8396432548525454\n",
      "13 0.8703592552895671\n",
      "14 0.8740118423302576\n",
      "15 0.9442721787424647\n",
      "16 0.8406361854220809\n",
      "17 0.956644501523794\n",
      "18 0.9442721787424647\n",
      "19 0.8885443574849294\n",
      "20 0.8427572744917122\n",
      "21 0.8250364469440588\n"
     ]
    }
   ],
   "source": [
    "import scipy.spatial\n",
    "\n",
    "i = 0\n",
    "for x in m:\n",
    "    print i, scipy.spatial.distance.cosine(m[0], x)\n",
    "    i = i + 1"
   ]
  }
 ],
 "metadata": {
  "kernelspec": {
   "display_name": "Python 2",
   "language": "python",
   "name": "python2"
  },
  "language_info": {
   "codemirror_mode": {
    "name": "ipython",
    "version": 2
   },
   "file_extension": ".py",
   "mimetype": "text/x-python",
   "name": "python",
   "nbconvert_exporter": "python",
   "pygments_lexer": "ipython2",
   "version": "2.7.16"
  }
 },
 "nbformat": 4,
 "nbformat_minor": 2
}
