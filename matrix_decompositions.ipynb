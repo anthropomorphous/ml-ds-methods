{
 "cells": [
  {
   "cell_type": "code",
   "execution_count": 49,
   "metadata": {},
   "outputs": [],
   "source": [
    "import sys\n",
    "import numpy as np\n",
    "import scipy.linalg as lng\n",
    "from scipy.sparse.linalg import aslinearoperator\n",
    "import scipy.linalg.interpolative as sli\n",
    "from IPython.display import display\n",
    "import pandas as pd"
   ]
  },
  {
   "cell_type": "markdown",
   "metadata": {},
   "source": [
    "<h2>1. Eigendecomposition (Spectral Decomposition)<h2>\n",
    "    <div style=\"text-align:center\">$X = S^{T}DS$</div>"
   ]
  },
  {
   "cell_type": "code",
   "execution_count": null,
   "metadata": {},
   "outputs": [],
   "source": []
  },
  {
   "cell_type": "markdown",
   "metadata": {},
   "source": [
    "<h2>2. SVD (Singular Decomposition)<h2> \n",
    "<div style=\"text-align:center\">$X = UDV$</div>\n",
    "<h5> In linear algebra, the singular value decomposition (SVD) is a factorization of a real or complex matrix that generalizes the eigendecomposition of a square normal matrix to any m $x$ n matrix via an extension of the polar decomposition. <h5>\n",
    "       "
   ]
  },
  {
   "cell_type": "code",
   "execution_count": 4,
   "metadata": {},
   "outputs": [
    {
     "name": "stdout",
     "output_type": "stream",
     "text": [
      "[[-0.77643293+0.35959076j -0.47229343+0.68713104j  1.81072507+0.11793493j\n",
      "  -1.05560219+1.21710219j  2.19276767+0.39478932j  0.60234177+0.47823828j]\n",
      " [-1.49753796+1.60265692j -0.26736494-0.37818933j -1.48637344-0.00749373j\n",
      "   1.53670629-0.40904908j -1.59441889+0.33747748j  0.84990199-0.88947341j]\n",
      " [ 0.28665805-0.09153344j -0.27699425+0.66098593j  0.44364593+0.29406986j\n",
      "  -0.35496725+1.14375468j  0.40843182+0.86167291j -0.27566379-1.1933632j ]\n",
      " [-2.33095574+0.88200954j -1.32700203+0.40373339j  0.72432147-0.63891275j\n",
      "   0.6058731 -0.05655767j -2.11325365+0.80779385j -1.28111756+2.36580598j]\n",
      " [-1.21880398+0.65753507j -0.26021857+0.72739727j -0.36954404+1.49361435j\n",
      "  -0.32904413-2.66446993j  1.62809182-0.88694489j -1.79908221+0.27783553j]]\n"
     ]
    }
   ],
   "source": [
    "m = 5\n",
    "n = 6\n",
    "a = np.random.randn(m, n) + 1.j*np.random.randn(m, n)\n",
    "print(a)"
   ]
  },
  {
   "cell_type": "code",
   "execution_count": 5,
   "metadata": {},
   "outputs": [
    {
     "data": {
      "text/plain": [
       "((5, 5), (5,), (6, 6))"
      ]
     },
     "execution_count": 5,
     "metadata": {},
     "output_type": "execute_result"
    }
   ],
   "source": [
    "U, D, V = lng.svd(a)\n",
    "U.shape, D.shape, V.shape"
   ]
  },
  {
   "cell_type": "markdown",
   "metadata": {},
   "source": [
    "<h4>Reconstruction of the original matrix from the decomposition<h4>"
   ]
  },
  {
   "cell_type": "code",
   "execution_count": 8,
   "metadata": {},
   "outputs": [
    {
     "data": {
      "text/plain": [
       "True"
      ]
     },
     "execution_count": 8,
     "metadata": {},
     "output_type": "execute_result"
    }
   ],
   "source": [
    "sigma = np.zeros((m, n))\n",
    "for i in range(min(m, n)):\n",
    "    sigma[i, i] = D[i]\n",
    "    \n",
    "a_rec = np.dot(U, np.dot(sigma, V))\n",
    "\n",
    "np.allclose(a, a_rec)"
   ]
  },
  {
   "cell_type": "code",
   "execution_count": 25,
   "metadata": {},
   "outputs": [
    {
     "name": "stdout",
     "output_type": "stream",
     "text": [
      "[[ 2.7521158   1.03223204 -1.35375074  0.94249769]\n",
      " [ 1.02120142 -0.89359227 -0.97110289  1.87563723]\n",
      " [ 0.15002673 -1.36357663  0.84601035  0.12477653]\n",
      " [-0.31283324 -0.46775709  1.5548597   0.18507387]\n",
      " [-0.21597931 -0.52295971  0.05369575  1.41228591]\n",
      " [-0.53948229 -1.06144942 -0.1862594  -1.77537296]]\n"
     ]
    }
   ],
   "source": [
    "# Another example\n",
    "\n",
    "m1 = 6\n",
    "n1 = 4\n",
    "X = np.random.randn(m1, n1)\n",
    "print(X)"
   ]
  },
  {
   "cell_type": "code",
   "execution_count": 33,
   "metadata": {},
   "outputs": [
    {
     "name": "stdout",
     "output_type": "stream",
     "text": [
      "(6, 4) (4,) (4, 4)\n"
     ]
    },
    {
     "data": {
      "text/html": [
       "<div>\n",
       "<style scoped>\n",
       "    .dataframe tbody tr th:only-of-type {\n",
       "        vertical-align: middle;\n",
       "    }\n",
       "\n",
       "    .dataframe tbody tr th {\n",
       "        vertical-align: top;\n",
       "    }\n",
       "\n",
       "    .dataframe thead th {\n",
       "        text-align: right;\n",
       "    }\n",
       "</style>\n",
       "<table border=\"1\" class=\"dataframe\">\n",
       "  <thead>\n",
       "    <tr style=\"text-align: right;\">\n",
       "      <th></th>\n",
       "      <th>0</th>\n",
       "      <th>1</th>\n",
       "      <th>2</th>\n",
       "      <th>3</th>\n",
       "    </tr>\n",
       "  </thead>\n",
       "  <tbody>\n",
       "    <tr>\n",
       "      <th>0</th>\n",
       "      <td>-0.760316</td>\n",
       "      <td>0.317773</td>\n",
       "      <td>-0.117941</td>\n",
       "      <td>-0.468349</td>\n",
       "    </tr>\n",
       "    <tr>\n",
       "      <th>1</th>\n",
       "      <td>-0.465567</td>\n",
       "      <td>-0.500657</td>\n",
       "      <td>-0.407571</td>\n",
       "      <td>0.283250</td>\n",
       "    </tr>\n",
       "    <tr>\n",
       "      <th>2</th>\n",
       "      <td>0.122513</td>\n",
       "      <td>-0.439642</td>\n",
       "      <td>-0.373993</td>\n",
       "      <td>-0.506670</td>\n",
       "    </tr>\n",
       "    <tr>\n",
       "      <th>3</th>\n",
       "      <td>0.213482</td>\n",
       "      <td>-0.381574</td>\n",
       "      <td>0.268688</td>\n",
       "      <td>-0.589073</td>\n",
       "    </tr>\n",
       "    <tr>\n",
       "      <th>4</th>\n",
       "      <td>-0.120215</td>\n",
       "      <td>-0.506572</td>\n",
       "      <td>0.100058</td>\n",
       "      <td>0.310950</td>\n",
       "    </tr>\n",
       "    <tr>\n",
       "      <th>5</th>\n",
       "      <td>0.360738</td>\n",
       "      <td>0.229924</td>\n",
       "      <td>-0.773240</td>\n",
       "      <td>0.002742</td>\n",
       "    </tr>\n",
       "  </tbody>\n",
       "</table>\n",
       "</div>"
      ],
      "text/plain": [
       "          0         1         2         3\n",
       "0 -0.760316  0.317773 -0.117941 -0.468349\n",
       "1 -0.465567 -0.500657 -0.407571  0.283250\n",
       "2  0.122513 -0.439642 -0.373993 -0.506670\n",
       "3  0.213482 -0.381574  0.268688 -0.589073\n",
       "4 -0.120215 -0.506572  0.100058  0.310950\n",
       "5  0.360738  0.229924 -0.773240  0.002742"
      ]
     },
     "metadata": {},
     "output_type": "display_data"
    },
    {
     "data": {
      "text/html": [
       "<div>\n",
       "<style scoped>\n",
       "    .dataframe tbody tr th:only-of-type {\n",
       "        vertical-align: middle;\n",
       "    }\n",
       "\n",
       "    .dataframe tbody tr th {\n",
       "        vertical-align: top;\n",
       "    }\n",
       "\n",
       "    .dataframe thead th {\n",
       "        text-align: right;\n",
       "    }\n",
       "</style>\n",
       "<table border=\"1\" class=\"dataframe\">\n",
       "  <thead>\n",
       "    <tr style=\"text-align: right;\">\n",
       "      <th></th>\n",
       "      <th>0</th>\n",
       "    </tr>\n",
       "  </thead>\n",
       "  <tbody>\n",
       "    <tr>\n",
       "      <th>0</th>\n",
       "      <td>4.191368</td>\n",
       "    </tr>\n",
       "    <tr>\n",
       "      <th>1</th>\n",
       "      <td>2.676902</td>\n",
       "    </tr>\n",
       "    <tr>\n",
       "      <th>2</th>\n",
       "      <td>1.801036</td>\n",
       "    </tr>\n",
       "    <tr>\n",
       "      <th>3</th>\n",
       "      <td>1.410490</td>\n",
       "    </tr>\n",
       "  </tbody>\n",
       "</table>\n",
       "</div>"
      ],
      "text/plain": [
       "          0\n",
       "0  4.191368\n",
       "1  2.676902\n",
       "2  1.801036\n",
       "3  1.410490"
      ]
     },
     "metadata": {},
     "output_type": "display_data"
    },
    {
     "data": {
      "text/html": [
       "<div>\n",
       "<style scoped>\n",
       "    .dataframe tbody tr th:only-of-type {\n",
       "        vertical-align: middle;\n",
       "    }\n",
       "\n",
       "    .dataframe tbody tr th {\n",
       "        vertical-align: top;\n",
       "    }\n",
       "\n",
       "    .dataframe thead th {\n",
       "        text-align: right;\n",
       "    }\n",
       "</style>\n",
       "<table border=\"1\" class=\"dataframe\">\n",
       "  <thead>\n",
       "    <tr style=\"text-align: right;\">\n",
       "      <th></th>\n",
       "      <th>0</th>\n",
       "      <th>1</th>\n",
       "      <th>2</th>\n",
       "      <th>3</th>\n",
       "    </tr>\n",
       "  </thead>\n",
       "  <tbody>\n",
       "    <tr>\n",
       "      <th>0</th>\n",
       "      <td>-0.664453</td>\n",
       "      <td>-0.228027</td>\n",
       "      <td>0.439791</td>\n",
       "      <td>-0.559544</td>\n",
       "    </tr>\n",
       "    <tr>\n",
       "      <th>1</th>\n",
       "      <td>0.150194</td>\n",
       "      <td>0.588080</td>\n",
       "      <td>-0.365817</td>\n",
       "      <td>-0.705536</td>\n",
       "    </tr>\n",
       "    <tr>\n",
       "      <th>2</th>\n",
       "      <td>-0.269525</td>\n",
       "      <td>0.774651</td>\n",
       "      <td>0.447644</td>\n",
       "      <td>0.356210</td>\n",
       "    </tr>\n",
       "    <tr>\n",
       "      <th>3</th>\n",
       "      <td>-0.680661</td>\n",
       "      <td>0.045620</td>\n",
       "      <td>-0.687296</td>\n",
       "      <td>0.249486</td>\n",
       "    </tr>\n",
       "  </tbody>\n",
       "</table>\n",
       "</div>"
      ],
      "text/plain": [
       "          0         1         2         3\n",
       "0 -0.664453 -0.228027  0.439791 -0.559544\n",
       "1  0.150194  0.588080 -0.365817 -0.705536\n",
       "2 -0.269525  0.774651  0.447644  0.356210\n",
       "3 -0.680661  0.045620 -0.687296  0.249486"
      ]
     },
     "metadata": {},
     "output_type": "display_data"
    }
   ],
   "source": [
    "U_1, D_1, V_1 = lng.svd(X, full_matrices = False)\n",
    "print(U_1.shape, D_1.shape, V_1.shape)\n",
    "\n",
    "U_df, D_df, V_df = pd.DataFrame(U_1), pd.DataFrame(D_1), pd.DataFrame(V_1)\n",
    "display(U_df, D_df, V_df)"
   ]
  },
  {
   "cell_type": "code",
   "execution_count": 34,
   "metadata": {},
   "outputs": [
    {
     "data": {
      "text/plain": [
       "True"
      ]
     },
     "execution_count": 34,
     "metadata": {},
     "output_type": "execute_result"
    }
   ],
   "source": [
    "d = np.diag(D_1)\n",
    "np.allclose(X, np.dot(U_1, np.dot(d, V_1)))"
   ]
  },
  {
   "cell_type": "markdown",
   "metadata": {},
   "source": [
    "<h1>3. Interpolative matrix decomposition<h1>\n",
    "<div style=\"text-align:center\">$X = BP + E$</div>\n",
    "<h5> The principal advantages of using an ID over an SVD are that: <h5>\n",
    "<ol>\n",
    "<li> It is cheaper to construct</li>\n",
    "<li> It preserves the structure of $X$ and</li>\n",
    "<li> It is more efficient to compute with in light of the identity submatrix of $P$</li>\n",
    "</ol>"
   ]
  },
  {
   "cell_type": "code",
   "execution_count": 58,
   "metadata": {},
   "outputs": [
    {
     "data": {
      "text/html": [
       "<div>\n",
       "<style scoped>\n",
       "    .dataframe tbody tr th:only-of-type {\n",
       "        vertical-align: middle;\n",
       "    }\n",
       "\n",
       "    .dataframe tbody tr th {\n",
       "        vertical-align: top;\n",
       "    }\n",
       "\n",
       "    .dataframe thead th {\n",
       "        text-align: right;\n",
       "    }\n",
       "</style>\n",
       "<table border=\"1\" class=\"dataframe\">\n",
       "  <thead>\n",
       "    <tr style=\"text-align: right;\">\n",
       "      <th></th>\n",
       "      <th>0</th>\n",
       "      <th>1</th>\n",
       "      <th>2</th>\n",
       "      <th>3</th>\n",
       "      <th>4</th>\n",
       "      <th>5</th>\n",
       "      <th>6</th>\n",
       "      <th>7</th>\n",
       "      <th>8</th>\n",
       "      <th>9</th>\n",
       "      <th>10</th>\n",
       "      <th>11</th>\n",
       "      <th>12</th>\n",
       "      <th>13</th>\n",
       "      <th>14</th>\n",
       "      <th>15</th>\n",
       "      <th>16</th>\n",
       "      <th>17</th>\n",
       "      <th>18</th>\n",
       "      <th>19</th>\n",
       "    </tr>\n",
       "  </thead>\n",
       "  <tbody>\n",
       "    <tr>\n",
       "      <th>0</th>\n",
       "      <td>1.000000</td>\n",
       "      <td>0.500000</td>\n",
       "      <td>0.333333</td>\n",
       "      <td>0.250000</td>\n",
       "      <td>0.200000</td>\n",
       "      <td>0.166667</td>\n",
       "      <td>0.142857</td>\n",
       "      <td>0.125000</td>\n",
       "      <td>0.111111</td>\n",
       "      <td>0.100000</td>\n",
       "      <td>0.090909</td>\n",
       "      <td>0.083333</td>\n",
       "      <td>0.076923</td>\n",
       "      <td>0.071429</td>\n",
       "      <td>0.066667</td>\n",
       "      <td>0.062500</td>\n",
       "      <td>0.058824</td>\n",
       "      <td>0.055556</td>\n",
       "      <td>0.052632</td>\n",
       "      <td>0.050000</td>\n",
       "    </tr>\n",
       "    <tr>\n",
       "      <th>1</th>\n",
       "      <td>0.500000</td>\n",
       "      <td>0.333333</td>\n",
       "      <td>0.250000</td>\n",
       "      <td>0.200000</td>\n",
       "      <td>0.166667</td>\n",
       "      <td>0.142857</td>\n",
       "      <td>0.125000</td>\n",
       "      <td>0.111111</td>\n",
       "      <td>0.100000</td>\n",
       "      <td>0.090909</td>\n",
       "      <td>0.083333</td>\n",
       "      <td>0.076923</td>\n",
       "      <td>0.071429</td>\n",
       "      <td>0.066667</td>\n",
       "      <td>0.062500</td>\n",
       "      <td>0.058824</td>\n",
       "      <td>0.055556</td>\n",
       "      <td>0.052632</td>\n",
       "      <td>0.050000</td>\n",
       "      <td>0.047619</td>\n",
       "    </tr>\n",
       "    <tr>\n",
       "      <th>2</th>\n",
       "      <td>0.333333</td>\n",
       "      <td>0.250000</td>\n",
       "      <td>0.200000</td>\n",
       "      <td>0.166667</td>\n",
       "      <td>0.142857</td>\n",
       "      <td>0.125000</td>\n",
       "      <td>0.111111</td>\n",
       "      <td>0.100000</td>\n",
       "      <td>0.090909</td>\n",
       "      <td>0.083333</td>\n",
       "      <td>0.076923</td>\n",
       "      <td>0.071429</td>\n",
       "      <td>0.066667</td>\n",
       "      <td>0.062500</td>\n",
       "      <td>0.058824</td>\n",
       "      <td>0.055556</td>\n",
       "      <td>0.052632</td>\n",
       "      <td>0.050000</td>\n",
       "      <td>0.047619</td>\n",
       "      <td>0.045455</td>\n",
       "    </tr>\n",
       "    <tr>\n",
       "      <th>3</th>\n",
       "      <td>0.250000</td>\n",
       "      <td>0.200000</td>\n",
       "      <td>0.166667</td>\n",
       "      <td>0.142857</td>\n",
       "      <td>0.125000</td>\n",
       "      <td>0.111111</td>\n",
       "      <td>0.100000</td>\n",
       "      <td>0.090909</td>\n",
       "      <td>0.083333</td>\n",
       "      <td>0.076923</td>\n",
       "      <td>0.071429</td>\n",
       "      <td>0.066667</td>\n",
       "      <td>0.062500</td>\n",
       "      <td>0.058824</td>\n",
       "      <td>0.055556</td>\n",
       "      <td>0.052632</td>\n",
       "      <td>0.050000</td>\n",
       "      <td>0.047619</td>\n",
       "      <td>0.045455</td>\n",
       "      <td>0.043478</td>\n",
       "    </tr>\n",
       "    <tr>\n",
       "      <th>4</th>\n",
       "      <td>0.200000</td>\n",
       "      <td>0.166667</td>\n",
       "      <td>0.142857</td>\n",
       "      <td>0.125000</td>\n",
       "      <td>0.111111</td>\n",
       "      <td>0.100000</td>\n",
       "      <td>0.090909</td>\n",
       "      <td>0.083333</td>\n",
       "      <td>0.076923</td>\n",
       "      <td>0.071429</td>\n",
       "      <td>0.066667</td>\n",
       "      <td>0.062500</td>\n",
       "      <td>0.058824</td>\n",
       "      <td>0.055556</td>\n",
       "      <td>0.052632</td>\n",
       "      <td>0.050000</td>\n",
       "      <td>0.047619</td>\n",
       "      <td>0.045455</td>\n",
       "      <td>0.043478</td>\n",
       "      <td>0.041667</td>\n",
       "    </tr>\n",
       "  </tbody>\n",
       "</table>\n",
       "</div>"
      ],
      "text/plain": [
       "          0         1         2         3         4         5         6  \\\n",
       "0  1.000000  0.500000  0.333333  0.250000  0.200000  0.166667  0.142857   \n",
       "1  0.500000  0.333333  0.250000  0.200000  0.166667  0.142857  0.125000   \n",
       "2  0.333333  0.250000  0.200000  0.166667  0.142857  0.125000  0.111111   \n",
       "3  0.250000  0.200000  0.166667  0.142857  0.125000  0.111111  0.100000   \n",
       "4  0.200000  0.166667  0.142857  0.125000  0.111111  0.100000  0.090909   \n",
       "\n",
       "          7         8         9        10        11        12        13  \\\n",
       "0  0.125000  0.111111  0.100000  0.090909  0.083333  0.076923  0.071429   \n",
       "1  0.111111  0.100000  0.090909  0.083333  0.076923  0.071429  0.066667   \n",
       "2  0.100000  0.090909  0.083333  0.076923  0.071429  0.066667  0.062500   \n",
       "3  0.090909  0.083333  0.076923  0.071429  0.066667  0.062500  0.058824   \n",
       "4  0.083333  0.076923  0.071429  0.066667  0.062500  0.058824  0.055556   \n",
       "\n",
       "         14        15        16        17        18        19  \n",
       "0  0.066667  0.062500  0.058824  0.055556  0.052632  0.050000  \n",
       "1  0.062500  0.058824  0.055556  0.052632  0.050000  0.047619  \n",
       "2  0.058824  0.055556  0.052632  0.050000  0.047619  0.045455  \n",
       "3  0.055556  0.052632  0.050000  0.047619  0.045455  0.043478  \n",
       "4  0.052632  0.050000  0.047619  0.045455  0.043478  0.041667  "
      ]
     },
     "execution_count": 58,
     "metadata": {},
     "output_type": "execute_result"
    }
   ],
   "source": [
    "n = 20\n",
    "X = lng.hilbert(n) # low-rank Hilbert matrix\n",
    "L = aslinearoperator(X)\n",
    "\n",
    "X_df = pd.DataFrame(X)\n",
    "X_df.head()"
   ]
  },
  {
   "cell_type": "markdown",
   "metadata": {},
   "source": [
    "<h5>In all cases, the ID is represented by three parameters:</h5>\n",
    "<ol>\n",
    "<li> A rank $k$</li>\n",
    "<li> An index array 'idx'</li>\n",
    "<li> Interpolation coefficients 'proj'</li>\n",
    "</ol>"
   ]
  },
  {
   "cell_type": "code",
   "execution_count": 61,
   "metadata": {},
   "outputs": [
    {
     "name": "stdout",
     "output_type": "stream",
     "text": [
      "14 \n",
      "\n",
      " [ 0  3 15  1  7 19  2  5 11  4 17  9  6 13 14 12 16 10 18  8] \n",
      "\n",
      "proj's shape:  (14, 6)\n"
     ]
    }
   ],
   "source": [
    "eps = sys.float_info.epsilon\n",
    "k, idx, proj = lng.interpolative.interp_decomp(X, eps)\n",
    "\n",
    "print(k, '\\n\\n', idx, \"\\n\\nproj's shape: \", proj.shape)"
   ]
  },
  {
   "cell_type": "code",
   "execution_count": 62,
   "metadata": {},
   "outputs": [
    {
     "name": "stdout",
     "output_type": "stream",
     "text": [
      "[ 0  3 14  1  4  5  6  7  8  9 10 11 12 13  2 15 16 17 18 19] \n",
      "\n",
      "proj's shape:  (3, 17)\n"
     ]
    }
   ],
   "source": [
    "# Computing an ID to a fixed rank:\n",
    "\n",
    "k1 = 3\n",
    "idx1, proj1 = sli.interp_decomp(X, k1)\n",
    "\n",
    "print(idx1, \"\\n\\nproj's shape: \", proj1.shape)"
   ]
  },
  {
   "cell_type": "markdown",
   "metadata": {},
   "source": [
    "<h4>Reconstruction of the original matrix from the ID<h4>"
   ]
  },
  {
   "cell_type": "code",
   "execution_count": 66,
   "metadata": {},
   "outputs": [
    {
     "data": {
      "text/plain": [
       "(20, 14)"
      ]
     },
     "execution_count": 66,
     "metadata": {},
     "output_type": "execute_result"
    }
   ],
   "source": [
    "B = sli.reconstruct_skel_matrix(X, k, idx) #Skeleton (yep) matrix\n",
    "B.shape"
   ]
  },
  {
   "cell_type": "code",
   "execution_count": 67,
   "metadata": {},
   "outputs": [
    {
     "data": {
      "text/plain": [
       "(14, 20)"
      ]
     },
     "execution_count": 67,
     "metadata": {},
     "output_type": "execute_result"
    }
   ],
   "source": [
    "P = sli.reconstruct_interp_matrix(idx, proj)\n",
    "P.shape"
   ]
  },
  {
   "cell_type": "code",
   "execution_count": 70,
   "metadata": {},
   "outputs": [
    {
     "data": {
      "text/plain": [
       "(20, 20)"
      ]
     },
     "execution_count": 70,
     "metadata": {},
     "output_type": "execute_result"
    }
   ],
   "source": [
    "# Computing the ID approximation\n",
    "\n",
    "C = np.dot(B, P)\n",
    "\n",
    "# or\n",
    "C1 = sli.reconstruct_matrix_from_id(B, idx, proj)\n",
    "C.shape"
   ]
  },
  {
   "cell_type": "code",
   "execution_count": 72,
   "metadata": {},
   "outputs": [
    {
     "data": {
      "text/html": [
       "<div>\n",
       "<style scoped>\n",
       "    .dataframe tbody tr th:only-of-type {\n",
       "        vertical-align: middle;\n",
       "    }\n",
       "\n",
       "    .dataframe tbody tr th {\n",
       "        vertical-align: top;\n",
       "    }\n",
       "\n",
       "    .dataframe thead th {\n",
       "        text-align: right;\n",
       "    }\n",
       "</style>\n",
       "<table border=\"1\" class=\"dataframe\">\n",
       "  <thead>\n",
       "    <tr style=\"text-align: right;\">\n",
       "      <th></th>\n",
       "      <th>0</th>\n",
       "      <th>1</th>\n",
       "      <th>2</th>\n",
       "      <th>3</th>\n",
       "      <th>4</th>\n",
       "      <th>5</th>\n",
       "      <th>6</th>\n",
       "      <th>7</th>\n",
       "      <th>8</th>\n",
       "      <th>9</th>\n",
       "      <th>10</th>\n",
       "      <th>11</th>\n",
       "      <th>12</th>\n",
       "      <th>13</th>\n",
       "      <th>14</th>\n",
       "      <th>15</th>\n",
       "      <th>16</th>\n",
       "      <th>17</th>\n",
       "      <th>18</th>\n",
       "      <th>19</th>\n",
       "    </tr>\n",
       "  </thead>\n",
       "  <tbody>\n",
       "    <tr>\n",
       "      <th>0</th>\n",
       "      <td>1.000000</td>\n",
       "      <td>0.500000</td>\n",
       "      <td>0.333333</td>\n",
       "      <td>0.250000</td>\n",
       "      <td>0.200000</td>\n",
       "      <td>0.166667</td>\n",
       "      <td>0.142857</td>\n",
       "      <td>0.125000</td>\n",
       "      <td>0.111111</td>\n",
       "      <td>0.100000</td>\n",
       "      <td>0.090909</td>\n",
       "      <td>0.083333</td>\n",
       "      <td>0.076923</td>\n",
       "      <td>0.071429</td>\n",
       "      <td>0.066667</td>\n",
       "      <td>0.062500</td>\n",
       "      <td>0.058824</td>\n",
       "      <td>0.055556</td>\n",
       "      <td>0.052632</td>\n",
       "      <td>0.050000</td>\n",
       "    </tr>\n",
       "    <tr>\n",
       "      <th>1</th>\n",
       "      <td>0.500000</td>\n",
       "      <td>0.333333</td>\n",
       "      <td>0.250000</td>\n",
       "      <td>0.200000</td>\n",
       "      <td>0.166667</td>\n",
       "      <td>0.142857</td>\n",
       "      <td>0.125000</td>\n",
       "      <td>0.111111</td>\n",
       "      <td>0.100000</td>\n",
       "      <td>0.090909</td>\n",
       "      <td>0.083333</td>\n",
       "      <td>0.076923</td>\n",
       "      <td>0.071429</td>\n",
       "      <td>0.066667</td>\n",
       "      <td>0.062500</td>\n",
       "      <td>0.058824</td>\n",
       "      <td>0.055556</td>\n",
       "      <td>0.052632</td>\n",
       "      <td>0.050000</td>\n",
       "      <td>0.047619</td>\n",
       "    </tr>\n",
       "    <tr>\n",
       "      <th>2</th>\n",
       "      <td>0.333333</td>\n",
       "      <td>0.250000</td>\n",
       "      <td>0.200000</td>\n",
       "      <td>0.166667</td>\n",
       "      <td>0.142857</td>\n",
       "      <td>0.125000</td>\n",
       "      <td>0.111111</td>\n",
       "      <td>0.100000</td>\n",
       "      <td>0.090909</td>\n",
       "      <td>0.083333</td>\n",
       "      <td>0.076923</td>\n",
       "      <td>0.071429</td>\n",
       "      <td>0.066667</td>\n",
       "      <td>0.062500</td>\n",
       "      <td>0.058824</td>\n",
       "      <td>0.055556</td>\n",
       "      <td>0.052632</td>\n",
       "      <td>0.050000</td>\n",
       "      <td>0.047619</td>\n",
       "      <td>0.045455</td>\n",
       "    </tr>\n",
       "    <tr>\n",
       "      <th>3</th>\n",
       "      <td>0.250000</td>\n",
       "      <td>0.200000</td>\n",
       "      <td>0.166667</td>\n",
       "      <td>0.142857</td>\n",
       "      <td>0.125000</td>\n",
       "      <td>0.111111</td>\n",
       "      <td>0.100000</td>\n",
       "      <td>0.090909</td>\n",
       "      <td>0.083333</td>\n",
       "      <td>0.076923</td>\n",
       "      <td>0.071429</td>\n",
       "      <td>0.066667</td>\n",
       "      <td>0.062500</td>\n",
       "      <td>0.058824</td>\n",
       "      <td>0.055556</td>\n",
       "      <td>0.052632</td>\n",
       "      <td>0.050000</td>\n",
       "      <td>0.047619</td>\n",
       "      <td>0.045455</td>\n",
       "      <td>0.043478</td>\n",
       "    </tr>\n",
       "    <tr>\n",
       "      <th>4</th>\n",
       "      <td>0.200000</td>\n",
       "      <td>0.166667</td>\n",
       "      <td>0.142857</td>\n",
       "      <td>0.125000</td>\n",
       "      <td>0.111111</td>\n",
       "      <td>0.100000</td>\n",
       "      <td>0.090909</td>\n",
       "      <td>0.083333</td>\n",
       "      <td>0.076923</td>\n",
       "      <td>0.071429</td>\n",
       "      <td>0.066667</td>\n",
       "      <td>0.062500</td>\n",
       "      <td>0.058824</td>\n",
       "      <td>0.055556</td>\n",
       "      <td>0.052632</td>\n",
       "      <td>0.050000</td>\n",
       "      <td>0.047619</td>\n",
       "      <td>0.045455</td>\n",
       "      <td>0.043478</td>\n",
       "      <td>0.041667</td>\n",
       "    </tr>\n",
       "  </tbody>\n",
       "</table>\n",
       "</div>"
      ],
      "text/plain": [
       "          0         1         2         3         4         5         6  \\\n",
       "0  1.000000  0.500000  0.333333  0.250000  0.200000  0.166667  0.142857   \n",
       "1  0.500000  0.333333  0.250000  0.200000  0.166667  0.142857  0.125000   \n",
       "2  0.333333  0.250000  0.200000  0.166667  0.142857  0.125000  0.111111   \n",
       "3  0.250000  0.200000  0.166667  0.142857  0.125000  0.111111  0.100000   \n",
       "4  0.200000  0.166667  0.142857  0.125000  0.111111  0.100000  0.090909   \n",
       "\n",
       "          7         8         9        10        11        12        13  \\\n",
       "0  0.125000  0.111111  0.100000  0.090909  0.083333  0.076923  0.071429   \n",
       "1  0.111111  0.100000  0.090909  0.083333  0.076923  0.071429  0.066667   \n",
       "2  0.100000  0.090909  0.083333  0.076923  0.071429  0.066667  0.062500   \n",
       "3  0.090909  0.083333  0.076923  0.071429  0.066667  0.062500  0.058824   \n",
       "4  0.083333  0.076923  0.071429  0.066667  0.062500  0.058824  0.055556   \n",
       "\n",
       "         14        15        16        17        18        19  \n",
       "0  0.066667  0.062500  0.058824  0.055556  0.052632  0.050000  \n",
       "1  0.062500  0.058824  0.055556  0.052632  0.050000  0.047619  \n",
       "2  0.058824  0.055556  0.052632  0.050000  0.047619  0.045455  \n",
       "3  0.055556  0.052632  0.050000  0.047619  0.045455  0.043478  \n",
       "4  0.052632  0.050000  0.047619  0.045455  0.043478  0.041667  "
      ]
     },
     "execution_count": 72,
     "metadata": {},
     "output_type": "execute_result"
    }
   ],
   "source": [
    "C_df = pd.DataFrame(C)\n",
    "C_df.head()"
   ]
  },
  {
   "cell_type": "code",
   "execution_count": null,
   "metadata": {},
   "outputs": [],
   "source": []
  }
 ],
 "metadata": {
  "kernelspec": {
   "display_name": "Python 3",
   "language": "python",
   "name": "python3"
  },
  "language_info": {
   "codemirror_mode": {
    "name": "ipython",
    "version": 3
   },
   "file_extension": ".py",
   "mimetype": "text/x-python",
   "name": "python",
   "nbconvert_exporter": "python",
   "pygments_lexer": "ipython3",
   "version": "3.8.3"
  }
 },
 "nbformat": 4,
 "nbformat_minor": 4
}
